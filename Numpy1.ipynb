{
 "cells": [
  {
   "cell_type": "code",
   "execution_count": 1,
   "id": "6ff7e3be-8bae-4c43-b6f2-408413870399",
   "metadata": {},
   "outputs": [],
   "source": [
    "import numpy as np"
   ]
  },
  {
   "cell_type": "markdown",
   "id": "53b402cc-169f-4a86-a56b-b6a2944ac529",
   "metadata": {},
   "source": [
    "## 1.Converting a List to Array"
   ]
  },
  {
   "cell_type": "code",
   "execution_count": 4,
   "id": "fa52fa31-4636-4f82-9513-9318cfa2e470",
   "metadata": {},
   "outputs": [
    {
     "name": "stdout",
     "output_type": "stream",
     "text": [
      "<class 'list'>\n"
     ]
    }
   ],
   "source": [
    "lst=[1,2,3,4]\n",
    "print(type(lst))"
   ]
  },
  {
   "cell_type": "code",
   "execution_count": 16,
   "id": "0d871a52-ee28-4c7c-a2ab-1225233c5c90",
   "metadata": {},
   "outputs": [
    {
     "name": "stdout",
     "output_type": "stream",
     "text": [
      "<class 'numpy.ndarray'>\n",
      "[[1 2 3 4]]\n"
     ]
    }
   ],
   "source": [
    "arr=np.array(lst, ndmin = 2)\n",
    "print(type(arr))\n",
    "print(arr)"
   ]
  },
  {
   "cell_type": "markdown",
   "id": "d79109ba-25f4-4da1-a9f1-e74ca549dc55",
   "metadata": {},
   "source": [
    "## 2. Arrange Function"
   ]
  },
  {
   "cell_type": "code",
   "execution_count": 23,
   "id": "fcccbfc4-2310-41bc-af51-be42b8cf7aa4",
   "metadata": {},
   "outputs": [
    {
     "data": {
      "text/plain": [
       "array([1, 4, 7])"
      ]
     },
     "execution_count": 23,
     "metadata": {},
     "output_type": "execute_result"
    }
   ],
   "source": [
    "arr1=np.arange(1,10,3)\n",
    "arr1"
   ]
  },
  {
   "cell_type": "markdown",
   "id": "67130468-8b8e-46c5-bbc5-50286fc29f5d",
   "metadata": {},
   "source": [
    "## 3. Multidimensional Array"
   ]
  },
  {
   "cell_type": "code",
   "execution_count": 28,
   "id": "4a5c3223-7577-489c-85f9-c40ee508a441",
   "metadata": {},
   "outputs": [
    {
     "data": {
      "text/plain": [
       "array([[ 1,  2,  3,  4],\n",
       "       [ 4,  5, 67,  8],\n",
       "       [12,  3,  2,  4]])"
      ]
     },
     "execution_count": 28,
     "metadata": {},
     "output_type": "execute_result"
    }
   ],
   "source": [
    "arr=np.array([[1,2,3,4],[4,5,67,8],[12,3,2,4]])\n",
    "arr"
   ]
  },
  {
   "cell_type": "markdown",
   "id": "d37e6934-7ebc-42c9-980d-30e0e97ddac3",
   "metadata": {},
   "source": [
    "## 4. Size Function"
   ]
  },
  {
   "cell_type": "code",
   "execution_count": 33,
   "id": "dc2d8ab3-b19d-4d1a-aa8c-882925714c14",
   "metadata": {},
   "outputs": [
    {
     "data": {
      "text/plain": [
       "array([[1, 2, 3],\n",
       "       [2, 3, 4],\n",
       "       [5, 6, 7]])"
      ]
     },
     "execution_count": 33,
     "metadata": {},
     "output_type": "execute_result"
    }
   ],
   "source": [
    "arr=np.array([[1,2,3,],[2,3,4,],[5,6,7]])\n",
    "arr"
   ]
  },
  {
   "cell_type": "code",
   "execution_count": 37,
   "id": "a0fb24dc-1fe8-4562-86ac-b7ee5616c67c",
   "metadata": {},
   "outputs": [
    {
     "data": {
      "text/plain": [
       "9"
      ]
     },
     "execution_count": 37,
     "metadata": {},
     "output_type": "execute_result"
    }
   ],
   "source": [
    "arr.size # gives total number of elements in rows and coulmns"
   ]
  },
  {
   "cell_type": "code",
   "execution_count": 39,
   "id": "c267426f-cde4-4632-ab81-1c08357d5ed9",
   "metadata": {},
   "outputs": [
    {
     "data": {
      "text/plain": [
       "3"
      ]
     },
     "execution_count": 39,
     "metadata": {},
     "output_type": "execute_result"
    }
   ],
   "source": [
    "np.size(arr,0) # gives total number of rows"
   ]
  },
  {
   "cell_type": "code",
   "execution_count": 41,
   "id": "d301f585-7568-4bbc-b31f-08f29ae7669b",
   "metadata": {},
   "outputs": [
    {
     "data": {
      "text/plain": [
       "3"
      ]
     },
     "execution_count": 41,
     "metadata": {},
     "output_type": "execute_result"
    }
   ],
   "source": [
    "np.size(arr,1) # gives total number of columns"
   ]
  },
  {
   "cell_type": "markdown",
   "id": "4366bbb8-8e1f-4cf2-aea4-114331241b42",
   "metadata": {},
   "source": [
    "## 5. Shape Function"
   ]
  },
  {
   "cell_type": "code",
   "execution_count": 44,
   "id": "faa964ef-161e-4880-ae83-4ee4504e2d87",
   "metadata": {},
   "outputs": [
    {
     "data": {
      "text/plain": [
       "(4, 3)"
      ]
     },
     "execution_count": 44,
     "metadata": {},
     "output_type": "execute_result"
    }
   ],
   "source": [
    "arr = np.array([[1,2,3],[4,5,6],[7,8,9],[1,2,3]])\n",
    "arr.shape"
   ]
  },
  {
   "cell_type": "markdown",
   "id": "6aac370c-469d-406c-974d-7ddd79059f5c",
   "metadata": {},
   "source": [
    "## 6. Dtype Function"
   ]
  },
  {
   "cell_type": "code",
   "execution_count": 49,
   "id": "9f17d4a6-4ebf-4402-8eac-9894fdd70a27",
   "metadata": {},
   "outputs": [
    {
     "name": "stdout",
     "output_type": "stream",
     "text": [
      "int32\n",
      "float64\n"
     ]
    }
   ],
   "source": [
    "arr1 = np.array([1,2,3,1,2,3])\n",
    "arr2 = np.array([1.2,3.1,2.3])\n",
    "\n",
    "\n",
    "print(arr1.dtype)\n",
    "print(arr2.dtype)"
   ]
  },
  {
   "cell_type": "markdown",
   "id": "b2991b7b-3509-4cd6-b700-0fc8e9f06282",
   "metadata": {},
   "source": [
    "## 7. Ndim Function"
   ]
  },
  {
   "cell_type": "code",
   "execution_count": 53,
   "id": "4d7356a0-6822-4319-a545-0becaab8b62b",
   "metadata": {},
   "outputs": [
    {
     "name": "stdout",
     "output_type": "stream",
     "text": [
      "1\n",
      "2\n",
      "3\n"
     ]
    }
   ],
   "source": [
    "arr1 = np.array([1,2,3,1,2,3])\n",
    "arr2 = np.array([[1,2,3],[1,2,3]])\n",
    "\n",
    "print(arr1.ndim)\n",
    "print(arr2.ndim)\n",
    "\n",
    "arr3 = np.array(arr1, ndmin = 3)\n",
    "print(arr3.ndim)"
   ]
  },
  {
   "cell_type": "markdown",
   "id": "993df0b7-f292-44fd-954e-0d6122fa3a3d",
   "metadata": {},
   "source": [
    "## 8. Zeros Function"
   ]
  },
  {
   "cell_type": "code",
   "execution_count": 56,
   "id": "c5fe55df-0d06-4cbe-8b33-d39e10ba2f7b",
   "metadata": {},
   "outputs": [
    {
     "name": "stdout",
     "output_type": "stream",
     "text": [
      "[[0. 0. 0. 0.]\n",
      " [0. 0. 0. 0.]\n",
      " [0. 0. 0. 0.]]\n"
     ]
    }
   ],
   "source": [
    "arr=np.zeros(shape=(3,4),dtype=float)\n",
    "print(arr)"
   ]
  },
  {
   "cell_type": "markdown",
   "id": "8822b3df-a362-4f58-9449-7ab63381fa35",
   "metadata": {},
   "source": [
    "## Ones Function"
   ]
  },
  {
   "cell_type": "code",
   "execution_count": 59,
   "id": "4842a10d-c3ce-409a-a06f-d2a38bbe1f68",
   "metadata": {},
   "outputs": [
    {
     "data": {
      "text/plain": [
       "array([[1, 1, 1],\n",
       "       [1, 1, 1],\n",
       "       [1, 1, 1]])"
      ]
     },
     "execution_count": 59,
     "metadata": {},
     "output_type": "execute_result"
    }
   ],
   "source": [
    "arr=np.ones(shape=(3,3),dtype=int)\n",
    "arr"
   ]
  },
  {
   "cell_type": "markdown",
   "id": "3db2fc69-9427-4349-aae1-82111d6c615c",
   "metadata": {},
   "source": [
    "## 9. Eye Function"
   ]
  },
  {
   "cell_type": "code",
   "execution_count": 66,
   "id": "6807438f-3133-4cd6-a31e-b6694d284de2",
   "metadata": {},
   "outputs": [
    {
     "data": {
      "text/plain": [
       "array([[1, 0, 0, 0],\n",
       "       [0, 1, 0, 0],\n",
       "       [0, 0, 1, 0],\n",
       "       [0, 0, 0, 1]])"
      ]
     },
     "execution_count": 66,
     "metadata": {},
     "output_type": "execute_result"
    }
   ],
   "source": [
    "arr=np.eye(4,dtype=int)\n",
    "arr"
   ]
  },
  {
   "cell_type": "markdown",
   "id": "419d1d36-6a59-41fa-9724-e3c5ba261be8",
   "metadata": {},
   "source": [
    "## 10.Empty Function"
   ]
  },
  {
   "cell_type": "code",
   "execution_count": 72,
   "id": "c578d746-072b-41f4-8f71-c01dab00a935",
   "metadata": {},
   "outputs": [
    {
     "data": {
      "text/plain": [
       "array([[6.23042070e-307, 4.67296746e-307, 1.69121096e-306,\n",
       "        3.00396005e-307, 4.45045753e-308],\n",
       "       [2.33647015e-307, 7.56599807e-307, 8.90104239e-307,\n",
       "        3.11525958e-307, 1.69118108e-306],\n",
       "       [8.06632139e-308, 1.20160711e-306, 1.69119330e-306,\n",
       "        1.33511018e-306, 6.23059726e-307],\n",
       "       [9.34608432e-307, 1.60220800e-306, 7.56589622e-307,\n",
       "        1.69120688e-306, 1.69118787e-306],\n",
       "       [6.89806849e-307, 1.86919785e-306, 1.37961709e-306,\n",
       "        1.42410974e-306, 2.12199579e-312]])"
      ]
     },
     "execution_count": 72,
     "metadata": {},
     "output_type": "execute_result"
    }
   ],
   "source": [
    "np.empty(shape = (5,5))"
   ]
  },
  {
   "cell_type": "markdown",
   "id": "5a94c222-6403-47ef-a1bf-395abb8f06eb",
   "metadata": {},
   "source": [
    "## 11. Random Function"
   ]
  },
  {
   "cell_type": "markdown",
   "id": "1b5f0398-11ea-4797-a71e-742b929768f7",
   "metadata": {},
   "source": [
    "## a) np.random.rand"
   ]
  },
  {
   "cell_type": "code",
   "execution_count": 77,
   "id": "72edd978-e91a-481a-9550-a1c11f5268a3",
   "metadata": {},
   "outputs": [
    {
     "data": {
      "text/plain": [
       "array([[0.26024301, 0.26362002, 0.48722374, 0.99554968],\n",
       "       [0.49595175, 0.2939889 , 0.65892096, 0.27670558],\n",
       "       [0.40231024, 0.70288252, 0.90490797, 0.71792262]])"
      ]
     },
     "execution_count": 77,
     "metadata": {},
     "output_type": "execute_result"
    }
   ],
   "source": [
    "np.random.rand(3,4) # this function creates the array of specified shape and fills it with random values"
   ]
  },
  {
   "cell_type": "markdown",
   "id": "f51b023e-7d13-4ceb-b972-5981082ceb14",
   "metadata": {},
   "source": [
    "## b) np.random.randint"
   ]
  },
  {
   "cell_type": "code",
   "execution_count": 79,
   "id": "42bee221-4694-4c84-8414-fd86b9083ff7",
   "metadata": {},
   "outputs": [
    {
     "data": {
      "text/plain": [
       "array([[7, 9, 2],\n",
       "       [6, 1, 5],\n",
       "       [8, 1, 3]])"
      ]
     },
     "execution_count": 79,
     "metadata": {},
     "output_type": "execute_result"
    }
   ],
   "source": [
    "np.random.randint(1,10,(3,3))"
   ]
  },
  {
   "cell_type": "markdown",
   "id": "46a4afef-9d66-4496-b289-b94235da5797",
   "metadata": {},
   "source": [
    "## c) np.random.randn"
   ]
  },
  {
   "cell_type": "code",
   "execution_count": 84,
   "id": "cd5b9e61-b7af-4d15-a408-d3ac13ef2fad",
   "metadata": {},
   "outputs": [
    {
     "data": {
      "image/png": "[encoded data removed]",
      "text/plain": [
       "<Figure size 640x480 with 1 Axes>"
      ]
     },
     "metadata": {},
     "output_type": "display_data"
    }
   ],
   "source": [
    "import matplotlib.pyplot as plt\n",
    "\n",
    "%matplotlib inline\n",
    "\n",
    "plt.hist(np.random.randn(10000000), bins = 1000);"
   ]
  },
  {
   "cell_type": "markdown",
   "id": "85f56769-2705-4e2f-860d-2ba5e866c524",
   "metadata": {},
   "source": [
    "## 12.Reshape function - will not alter the original data"
   ]
  },
  {
   "cell_type": "code",
   "execution_count": 91,
   "id": "52c69ec2-12a7-45bc-a480-77f28b523bcc",
   "metadata": {},
   "outputs": [
    {
     "data": {
      "text/plain": [
       "array([[14,  1, 13, 14],\n",
       "       [12,  4, 10,  1],\n",
       "       [ 7, 14, 11,  1]])"
      ]
     },
     "execution_count": 91,
     "metadata": {},
     "output_type": "execute_result"
    }
   ],
   "source": [
    "arr=np.random.randint(1,15,(3,4))\n",
    "arr"
   ]
  },
  {
   "cell_type": "code",
   "execution_count": 93,
   "id": "7d1cc757-5df2-409d-88d2-d7441203ca6b",
   "metadata": {},
   "outputs": [
    {
     "name": "stdout",
     "output_type": "stream",
     "text": [
      "(3, 4)\n"
     ]
    }
   ],
   "source": [
    "print(arr.shape)"
   ]
  },
  {
   "cell_type": "code",
   "execution_count": 95,
   "id": "08722541-44d4-4416-b31e-86315a94ba2c",
   "metadata": {},
   "outputs": [
    {
     "name": "stdout",
     "output_type": "stream",
     "text": [
      "[[14  1 13]\n",
      " [14 12  4]\n",
      " [10  1  7]\n",
      " [14 11  1]]\n"
     ]
    }
   ],
   "source": [
    "print(arr.reshape(4,3))"
   ]
  },
  {
   "cell_type": "code",
   "execution_count": 103,
   "id": "acb2def3-c5b6-4942-ba1e-707172dfbb0c",
   "metadata": {},
   "outputs": [
    {
     "name": "stdout",
     "output_type": "stream",
     "text": [
      "[[14  1]\n",
      " [13 14]\n",
      " [12  4]\n",
      " [10  1]\n",
      " [ 7 14]\n",
      " [11  1]]\n"
     ]
    }
   ],
   "source": [
    "print(arr.reshape(6,2))"
   ]
  },
  {
   "cell_type": "markdown",
   "id": "aec363ca-53cb-42ec-b28d-bd023d3a14eb",
   "metadata": {},
   "source": [
    "## 13. Linspace Function"
   ]
  },
  {
   "cell_type": "code",
   "execution_count": 106,
   "id": "339cfe40-6b0e-4cf9-bc7f-04bb4646f59f",
   "metadata": {},
   "outputs": [
    {
     "data": {
      "text/plain": [
       "array([ 1.,  4.,  7., 10.])"
      ]
     },
     "execution_count": 106,
     "metadata": {},
     "output_type": "execute_result"
    }
   ],
   "source": [
    "np.linspace(1,10,4)"
   ]
  },
  {
   "cell_type": "markdown",
   "id": "cc782c02-afc3-4d8d-91a1-6960fa59514d",
   "metadata": {},
   "source": [
    "## 14. Flatten Function"
   ]
  },
  {
   "cell_type": "code",
   "execution_count": 110,
   "id": "44ce8620-c5a8-45e7-9df4-05667f8718b8",
   "metadata": {},
   "outputs": [
    {
     "name": "stdout",
     "output_type": "stream",
     "text": [
      "(3, 4)\n",
      "[[ 5 12 14 14]\n",
      " [11  8  1  3]\n",
      " [13  5  7 12]]\n",
      "--------------------\n",
      "(12,)\n",
      "[ 5 12 14 14 11  8  1  3 13  5  7 12]\n"
     ]
    }
   ],
   "source": [
    "arr = np.random.randint(1,15,(3,4))\n",
    "\n",
    "print(arr.shape)\n",
    "print(arr)\n",
    "print('-'*20)\n",
    "arr = arr.flatten()\n",
    "print(arr.shape)\n",
    "print(arr)"
   ]
  },
  {
   "cell_type": "markdown",
   "id": "1ccac141-5235-4312-9443-f61139a07f74",
   "metadata": {},
   "source": [
    "## 15. Logspace Function"
   ]
  },
  {
   "cell_type": "code",
   "execution_count": 114,
   "id": "90a04bc0-7388-4071-96ad-4c6f5f22ac73",
   "metadata": {},
   "outputs": [
    {
     "name": "stdout",
     "output_type": "stream",
     "text": [
      "[  100.           166.81005372   278.25594022   464.15888336\n",
      "   774.26368268  1291.54966501  2154.43469003  3593.8136638\n",
      "  5994.84250319 10000.        ]\n",
      "--------------------\n",
      "[ 4.          4.66611616  5.44316     6.34960421  7.4069977   8.64047791\n",
      " 10.0793684  11.75787594 13.71590373 16.        ]\n"
     ]
    }
   ],
   "source": [
    "print(np.logspace(2,4,10))\n",
    "print('-'*20)\n",
    "print(np.logspace(2,4,10, base = 2))"
   ]
  },
  {
   "cell_type": "markdown",
   "id": "fc72c14c-d48c-4330-bcd7-fdc85b91a73e",
   "metadata": {},
   "source": [
    "## 16. Copy Function"
   ]
  },
  {
   "cell_type": "code",
   "execution_count": 7,
   "id": "7ab5c73e-7ab4-4378-8e9a-932656aa2c60",
   "metadata": {},
   "outputs": [
    {
     "name": "stdout",
     "output_type": "stream",
     "text": [
      "[ 3  2  3  3  4  3 13 13  1  8] 2587793221136\n",
      "[ 3  2  3  3  4  3 13 13  1  8] 2587793221136\n",
      "--------------------------------------------------\n",
      "[ 5  5 10 12 10 14  4  8  5  7] 2587793219216\n",
      "[ 5  5 10 12 10 14  4  8  5  7] 2587793221424\n"
     ]
    }
   ],
   "source": [
    "arr1 = np.random.randint(1,15,10)\n",
    "\n",
    "arr2 = arr1\n",
    "\n",
    "print(arr1, id(arr1))\n",
    "print(arr2, id(arr2))\n",
    "\n",
    "print('-'*50)\n",
    "\n",
    "arr1 = np.random.randint(1,15,10)\n",
    "arr2 = np.copy(arr1)\n",
    "\n",
    "print(arr1, id(arr1))\n",
    "print(arr2, id(arr2))"
   ]
  },
  {
   "cell_type": "markdown",
   "id": "e4527264-d56a-4ffc-b013-964b8779590a",
   "metadata": {},
   "source": [
    "## 17. arr.max(), arr.min(), arr.sum() functions"
   ]
  },
  {
   "cell_type": "code",
   "execution_count": 10,
   "id": "8d23a147-a3d1-4d79-923f-b0959eaacc67",
   "metadata": {},
   "outputs": [
    {
     "name": "stdout",
     "output_type": "stream",
     "text": [
      "--------------------\n",
      "[[6 4 9 6]\n",
      " [3 9 8 7]\n",
      " [9 7 4 4]]\n",
      "max  : 9\n",
      "min  : 3\n",
      "sum  : 76\n"
     ]
    }
   ],
   "source": [
    "arr=np.random.randint(1,10,(3,4))\n",
    "print(\"-\"*20)\n",
    "print(arr)\n",
    "print(\"max  :\" ,arr.max())\n",
    "print(\"min  :\" ,arr.min())\n",
    "print(\"sum  :\" ,arr.sum())"
   ]
  },
  {
   "cell_type": "markdown",
   "id": "4372151a-9b05-480e-99e2-d50168b6f10f",
   "metadata": {},
   "source": [
    "## we can use axis parameter to get the max,min and sum of particular column or row"
   ]
  },
  {
   "cell_type": "code",
   "execution_count": 13,
   "id": "560b2ac0-d313-4560-94b2-d21f6409663f",
   "metadata": {},
   "outputs": [
    {
     "name": "stdout",
     "output_type": "stream",
     "text": [
      "--------------------\n",
      "[[1 5 1 3]\n",
      " [4 7 1 3]\n",
      " [8 6 2 2]]\n",
      "------------------------------\n"
     ]
    }
   ],
   "source": [
    "arr=np.random.randint(1,10,(3,4))\n",
    "print(\"-\"*20)\n",
    "print(arr)\n",
    "print(\"-\"*30)\n"
   ]
  },
  {
   "cell_type": "markdown",
   "id": "3af8f42f-0b46-4576-8605-613194093141",
   "metadata": {},
   "source": [
    "## for columns"
   ]
  },
  {
   "cell_type": "code",
   "execution_count": 18,
   "id": "7b0ea0d9-39f6-4603-a091-3568d4e1dd0e",
   "metadata": {},
   "outputs": [
    {
     "name": "stdout",
     "output_type": "stream",
     "text": [
      "max : [8 7 2 3]\n",
      "min : [1 5 1 2]\n",
      "sum : [13 18  4  8]\n"
     ]
    }
   ],
   "source": [
    "print(\"max :\",arr.max(axis=0))\n",
    "print(\"min :\" ,arr.min(axis=0))\n",
    "print(\"sum :\" ,arr.sum(axis=0))"
   ]
  },
  {
   "cell_type": "markdown",
   "id": "ef309f82-8581-4575-a61c-e03a78af4bc6",
   "metadata": {},
   "source": [
    "##  for rows"
   ]
  },
  {
   "cell_type": "code",
   "execution_count": 21,
   "id": "bd4a5e55-812c-49aa-861d-ca4acc0bdd87",
   "metadata": {},
   "outputs": [
    {
     "name": "stdout",
     "output_type": "stream",
     "text": [
      "MAX :  [5 7 8]\n",
      "MIN :  [1 1 2]\n",
      "SUM :  [10 15 18]\n"
     ]
    }
   ],
   "source": [
    "print('MAX : ', arr.max(axis = 1))\n",
    "print('MIN : ', arr.min(axis = 1))\n",
    "print('SUM : ', arr.sum(axis = 1))"
   ]
  },
  {
   "cell_type": "markdown",
   "id": "492b39f5-b6ec-402d-aa51-5501efa85984",
   "metadata": {},
   "source": [
    "## 18. Seed Function"
   ]
  },
  {
   "cell_type": "code",
   "execution_count": 28,
   "id": "8f928289-0e91-411c-ac30-12f3ef0753a6",
   "metadata": {},
   "outputs": [
    {
     "data": {
      "text/plain": [
       "array([[9, 4, 9, 9, 1],\n",
       "       [6, 4, 6, 8, 7],\n",
       "       [1, 5, 8, 9, 2]])"
      ]
     },
     "execution_count": 28,
     "metadata": {},
     "output_type": "execute_result"
    }
   ],
   "source": [
    "np.random.seed(3)\n",
    "\n",
    "arr = np.random.randint(1,10,(3,5))\n",
    "\n",
    "arr"
   ]
  },
  {
   "cell_type": "markdown",
   "id": "bbe7f5d5-cf74-4e93-8094-3512342ae4f7",
   "metadata": {},
   "source": [
    "## 19. Sorting Function"
   ]
  },
  {
   "cell_type": "code",
   "execution_count": 31,
   "id": "777f5879-f327-4b79-8c97-ee70229e5f7c",
   "metadata": {},
   "outputs": [
    {
     "name": "stdout",
     "output_type": "stream",
     "text": [
      "---------------\n",
      "[[9 4 9 9 1]\n",
      " [6 4 6 8 7]\n",
      " [1 5 8 9 2]]\n",
      "---------------\n",
      "[[1 4 9 9 9]\n",
      " [4 6 6 7 8]\n",
      " [1 2 5 8 9]]\n",
      "---------------\n",
      "[[1 4 6 8 1]\n",
      " [6 4 8 9 2]\n",
      " [9 5 9 9 7]]\n",
      "---------------\n",
      "[[1 1 2 4 4]\n",
      " [5 6 6 7 8]\n",
      " [8 9 9 9 9]]\n",
      "---------------\n"
     ]
    }
   ],
   "source": [
    "np.random.seed(3)\n",
    "arr = np.random.randint(1,10,(3,5))\n",
    "\n",
    "\n",
    "print('-'*15)\n",
    "print(arr)\n",
    "print('-'*15)\n",
    "print(np.sort(arr, axis = 1))\n",
    "print('-'*15)\n",
    "print(np.sort(arr, axis = 0))\n",
    "print('-'*15)\n",
    "\n",
    "arr = np.reshape(np.sort(arr.flatten()), arr.shape)\n",
    "print(arr)\n",
    "print('-'*15)"
   ]
  },
  {
   "cell_type": "markdown",
   "id": "142ba683-873a-4267-8b44-9ad22aac30e2",
   "metadata": {},
   "source": [
    "## we can choose which type of sort we want to perform"
   ]
  },
  {
   "cell_type": "code",
   "execution_count": 36,
   "id": "48a63b1f-c206-4e92-89d9-b98b92aeb2d2",
   "metadata": {},
   "outputs": [
    {
     "name": "stdout",
     "output_type": "stream",
     "text": [
      "[[1 1 2 4 4]\n",
      " [5 6 6 7 8]\n",
      " [8 9 9 9 9]]\n"
     ]
    }
   ],
   "source": [
    "print(np.sort(arr,axis=0, kind=\"mergesort\"))"
   ]
  },
  {
   "cell_type": "markdown",
   "id": "ed028aee-1de3-4f47-a8f9-315b5b6d73af",
   "metadata": {},
   "source": [
    "## 20. Mathematical Operations"
   ]
  },
  {
   "cell_type": "markdown",
   "id": "9a0b18cb-8e0b-4b7e-8b60-7350333d9aa8",
   "metadata": {},
   "source": [
    "## a) Addition"
   ]
  },
  {
   "cell_type": "code",
   "execution_count": 39,
   "id": "675d51d0-a16f-4ea2-b215-25654ee6ae19",
   "metadata": {},
   "outputs": [
    {
     "name": "stdout",
     "output_type": "stream",
     "text": [
      "------------------------------\n",
      "[[9 4 9 9 1]\n",
      " [6 4 6 8 7]\n",
      " [1 5 8 9 2]]\n",
      "------------------------------\n",
      "[[10  5 10 10  2]\n",
      " [ 7  5  7  9  8]\n",
      " [ 2  6  9 10  3]]\n",
      "------------------------------\n"
     ]
    }
   ],
   "source": [
    "np.random.seed(3)\n",
    "arr=np.random.randint(1,10,(3,5))\n",
    "print(\"-\"*30)\n",
    "print(arr)\n",
    "print(\"-\"*30)\n",
    "print(arr+1)\n",
    "print(\"-\"*30)\n"
   ]
  },
  {
   "cell_type": "markdown",
   "id": "aec45a84-fe33-4f27-846a-bb9eca763555",
   "metadata": {},
   "source": [
    "## b) Substraction"
   ]
  },
  {
   "cell_type": "code",
   "execution_count": 44,
   "id": "04e088d9-8e11-49ab-abc8-f219a59b5930",
   "metadata": {},
   "outputs": [
    {
     "name": "stdout",
     "output_type": "stream",
     "text": [
      "---------------\n",
      "[[9 4 9 9 1]\n",
      " [6 4 6 8 7]\n",
      " [1 5 8 9 2]]\n",
      "---------------\n",
      "[[8 3 8 8 0]\n",
      " [5 3 5 7 6]\n",
      " [0 4 7 8 1]]\n",
      "---------------\n"
     ]
    }
   ],
   "source": [
    "print('-' * 15)\n",
    "print(arr)\n",
    "print('-' * 15)\n",
    "print(arr - 1)\n",
    "print('-' * 15)"
   ]
  },
  {
   "cell_type": "markdown",
   "id": "52bea997-8e5c-4c22-8a4a-61ef9484a4fc",
   "metadata": {},
   "source": [
    "## c) Multiplication"
   ]
  },
  {
   "cell_type": "code",
   "execution_count": 47,
   "id": "163e48c6-7f5d-487c-8b95-28a987eb9476",
   "metadata": {},
   "outputs": [
    {
     "name": "stdout",
     "output_type": "stream",
     "text": [
      "---------------\n",
      "[[9 4 9 9 1]\n",
      " [6 4 6 8 7]\n",
      " [1 5 8 9 2]]\n",
      "---------------\n",
      "[[18  8 18 18  2]\n",
      " [12  8 12 16 14]\n",
      " [ 2 10 16 18  4]]\n",
      "---------------\n"
     ]
    }
   ],
   "source": [
    "print('-' * 15)\n",
    "print(arr)\n",
    "print('-' * 15)\n",
    "print(arr * 2)\n",
    "print('-' * 15)"
   ]
  },
  {
   "cell_type": "markdown",
   "id": "a607a4b2-b54f-47bc-8fd8-24d9f707502c",
   "metadata": {},
   "source": [
    "## d) Division"
   ]
  },
  {
   "cell_type": "code",
   "execution_count": 50,
   "id": "76e8e642-244a-4a07-84b7-7021babdfd4b",
   "metadata": {},
   "outputs": [
    {
     "name": "stdout",
     "output_type": "stream",
     "text": [
      "---------------\n",
      "[[9 4 9 9 1]\n",
      " [6 4 6 8 7]\n",
      " [1 5 8 9 2]]\n",
      "---------------\n",
      "[[4.5 2.  4.5 4.5 0.5]\n",
      " [3.  2.  3.  4.  3.5]\n",
      " [0.5 2.5 4.  4.5 1. ]]\n",
      "---------------\n"
     ]
    }
   ],
   "source": [
    "print('-' * 15)\n",
    "print(arr)\n",
    "print('-' * 15)\n",
    "print(arr / 2)\n",
    "print('-' * 15)\n"
   ]
  },
  {
   "cell_type": "markdown",
   "id": "7e57a615-c0ba-495a-84a8-54c5771bc189",
   "metadata": {},
   "source": [
    "## e) Matrix Multiplication"
   ]
  },
  {
   "cell_type": "code",
   "execution_count": 55,
   "id": "a508588a-b663-4007-a82d-0ca078b3e841",
   "metadata": {},
   "outputs": [
    {
     "name": "stdout",
     "output_type": "stream",
     "text": [
      "[[9 4 9]\n",
      " [9 1 6]\n",
      " [4 6 8]]\n",
      "------------------------------\n",
      "[[7 1 5]\n",
      " [8 9 2]\n",
      " [7 3 3]]\n",
      "------------------------------\n",
      "[[158  72  80]\n",
      " [113  36  65]\n",
      " [132  82  56]]\n",
      "------------------------------\n",
      "[[158  72  80]\n",
      " [113  36  65]\n",
      " [132  82  56]]\n"
     ]
    }
   ],
   "source": [
    "np.random.seed(3)\n",
    "arr1=np.random.randint(1,10,(3,3))\n",
    "arr2=np.random.randint(1,10,(3,3))\n",
    "print(arr1)\n",
    "print(\"-\"*30)\n",
    "print(arr2)\n",
    "print(\"-\"*30)\n",
    "arr3= arr1.dot(arr2)\n",
    "print(arr3)\n",
    "print(\"-\"*30)\n",
    "arr4=arr1@arr2\n",
    "print(arr4)\n"
   ]
  },
  {
   "cell_type": "markdown",
   "id": "547081cb-73a6-4254-ade5-d62f68c1159c",
   "metadata": {},
   "source": [
    "## f) Power"
   ]
  },
  {
   "cell_type": "code",
   "execution_count": 58,
   "id": "d544c71e-5a86-4174-8100-842bb9fe2d78",
   "metadata": {},
   "outputs": [
    {
     "name": "stdout",
     "output_type": "stream",
     "text": [
      "[[9 4 9 9 1]\n",
      " [6 4 6 8 7]\n",
      " [1 5 8 9 2]]\n",
      "------------------------------\n",
      "[[81 16 81 81  1]\n",
      " [36 16 36 64 49]\n",
      " [ 1 25 64 81  4]]\n"
     ]
    }
   ],
   "source": [
    "print(arr)\n",
    "print(\"-\"*30)\n",
    "print(arr**2)"
   ]
  },
  {
   "cell_type": "markdown",
   "id": "7082c495-341c-439c-98ff-5b94c752c3a5",
   "metadata": {},
   "source": [
    "## 21. Percentile Function"
   ]
  },
  {
   "cell_type": "code",
   "execution_count": 61,
   "id": "1c99c415-b681-4106-948c-32c31e28dfa6",
   "metadata": {},
   "outputs": [
    {
     "name": "stdout",
     "output_type": "stream",
     "text": [
      "[9 4 9 9 1 6 4 6 8 7]\n",
      "[1 4 4 6 6 7 8 9 9 9]\n",
      "6.5\n"
     ]
    }
   ],
   "source": [
    "np.random.seed(3)\n",
    "\n",
    "arr = np.random.randint(1,10,10)\n",
    "print(arr)\n",
    "\n",
    "arr = np.sort(arr)\n",
    "print(arr)\n",
    "\n",
    "print(np.percentile(arr, 50))"
   ]
  },
  {
   "cell_type": "markdown",
   "id": "50f3c5a1-92a3-40a5-9f62-a2131935419e",
   "metadata": {},
   "source": [
    "## 22. Mean, Variance and Standard deviation"
   ]
  },
  {
   "cell_type": "code",
   "execution_count": 64,
   "id": "fbd3525a-7c76-40bf-93d5-77b5b2c0c748",
   "metadata": {},
   "outputs": [
    {
     "name": "stdout",
     "output_type": "stream",
     "text": [
      "[1 5 8 9 2 7 3 3 2 4]\n",
      "4.4\n",
      "6.839999999999999\n",
      "2.6153393661244038\n"
     ]
    }
   ],
   "source": [
    "arr=np.random.randint(1,10,10)\n",
    "print(arr)\n",
    "print(arr.mean())\n",
    "print(arr.var())\n",
    "print(arr.std())"
   ]
  },
  {
   "cell_type": "markdown",
   "id": "2a853fd2-6f61-49af-aaf0-f9f70a2fd84c",
   "metadata": {},
   "source": [
    "## 23. Filtering an Numpy array"
   ]
  },
  {
   "cell_type": "code",
   "execution_count": 69,
   "id": "29a751ce-e390-46a7-8600-8d88c493c764",
   "metadata": {},
   "outputs": [
    {
     "name": "stdout",
     "output_type": "stream",
     "text": [
      "[1 2 3 4 5 6 7 8 9]\n",
      "[ True  True  True  True False False False False False]\n",
      "[1 2 3 4]\n"
     ]
    }
   ],
   "source": [
    "arr=np.arange(1,10)\n",
    "print(arr)\n",
    "print(arr<5)\n",
    "print(arr[arr<5])"
   ]
  },
  {
   "cell_type": "markdown",
   "id": "0ff87a96-7316-4863-b2e5-e4fa13535297",
   "metadata": {},
   "source": [
    "## we can store this into a new variable if we need this filtered array"
   ]
  },
  {
   "cell_type": "code",
   "execution_count": 72,
   "id": "ce66a34d-17b5-4da7-b547-24b85c9eb74e",
   "metadata": {},
   "outputs": [
    {
     "name": "stdout",
     "output_type": "stream",
     "text": [
      "[1 2 3 4]\n"
     ]
    }
   ],
   "source": [
    "arr2= arr[arr<5]\n",
    "print(arr2)"
   ]
  },
  {
   "cell_type": "markdown",
   "id": "d0b57ec1-b07d-4b2d-b3e8-c7b24a0a7b7d",
   "metadata": {},
   "source": [
    "## if we want to replace all the values above 5 with 10 we can even do that"
   ]
  },
  {
   "cell_type": "code",
   "execution_count": 75,
   "id": "ef2de328-e512-428f-9f5a-b6ae954f41e7",
   "metadata": {},
   "outputs": [
    {
     "data": {
      "text/plain": [
       "array([ 1,  2,  3,  4,  5, 10, 10, 10, 10])"
      ]
     },
     "execution_count": 75,
     "metadata": {},
     "output_type": "execute_result"
    }
   ],
   "source": [
    "arr[arr>5]=10\n",
    "arr"
   ]
  },
  {
   "cell_type": "markdown",
   "id": "de6f5212-4497-47ad-8c5b-252217aa14a4",
   "metadata": {},
   "source": [
    "## 24 Transposing an array"
   ]
  },
  {
   "cell_type": "code",
   "execution_count": 3,
   "id": "f206c061-631c-48e5-8c57-423556edf093",
   "metadata": {},
   "outputs": [
    {
     "name": "stdout",
     "output_type": "stream",
     "text": [
      "[[4 1 8 3 5]\n",
      " [2 9 4 8 2]\n",
      " [9 7 6 7 7]]\n",
      "------------------------------\n",
      "[[4 2 9]\n",
      " [1 9 7]\n",
      " [8 4 6]\n",
      " [3 8 7]\n",
      " [5 2 7]]\n"
     ]
    }
   ],
   "source": [
    "arr=np.random.randint(1,10,(3,5))\n",
    "print(arr)\n",
    "print(\"-\"*30)\n",
    "print(arr.T)"
   ]
  },
  {
   "cell_type": "markdown",
   "id": "55cb89f6-0e66-42c3-8669-bafcd9c44487",
   "metadata": {},
   "source": [
    "## 25. Where Function"
   ]
  },
  {
   "cell_type": "code",
   "execution_count": 6,
   "id": "a2071054-9e53-4cd2-8caf-3dabf0d9ccd1",
   "metadata": {},
   "outputs": [
    {
     "data": {
      "text/plain": [
       "array([13, 75, 34, 15,  7, 68, 59, 79, 69, 98])"
      ]
     },
     "execution_count": 6,
     "metadata": {},
     "output_type": "execute_result"
    }
   ],
   "source": [
    "arr=np.random.randint(1,100,10)\n",
    "arr"
   ]
  },
  {
   "cell_type": "code",
   "execution_count": 10,
   "id": "cf0840cf-25e9-4df2-a1a4-d84e3d860d38",
   "metadata": {},
   "outputs": [
    {
     "name": "stdout",
     "output_type": "stream",
     "text": [
      "[13 75 34 15  7 68 59 79 69 98]\n",
      "['13' '75' 'even' '15' '7' 'even' '59' '79' '69' 'even']\n",
      "['odd' 'odd' '34' 'odd' 'odd' '68' 'odd' 'odd' 'odd' '98']\n"
     ]
    }
   ],
   "source": [
    "print(arr)\n",
    "print(np.where(arr%2==0, \"even\",arr))\n",
    "print(np.where(arr%2!=0, \"odd\",arr))\n"
   ]
  },
  {
   "cell_type": "code",
   "execution_count": 12,
   "id": "2c2fe352-23ff-410c-a4b8-0569f7abb410",
   "metadata": {},
   "outputs": [
    {
     "name": "stdout",
     "output_type": "stream",
     "text": [
      "['odd' 'odd' 'even' 'odd' 'odd' 'even' 'odd' 'odd' 'odd' 'even']\n"
     ]
    }
   ],
   "source": [
    "arr1 = np.where(arr%2==0, 'even',arr)\n",
    "arr1 = np.where(arr%2!=0, 'odd',arr1)\n",
    "\n",
    "print(arr1)"
   ]
  },
  {
   "cell_type": "markdown",
   "id": "655f3714-7350-49c6-87dc-5e1e12f96f91",
   "metadata": {},
   "source": [
    "## 26. Merging Arrays"
   ]
  },
  {
   "cell_type": "markdown",
   "id": "7f955485-f70b-442c-b4ce-a5d3fd4c8f5d",
   "metadata": {},
   "source": [
    "## a) Concatenate"
   ]
  },
  {
   "cell_type": "code",
   "execution_count": 18,
   "id": "75b6d47e-6901-4363-ad94-3f0c18997ad7",
   "metadata": {},
   "outputs": [
    {
     "name": "stdout",
     "output_type": "stream",
     "text": [
      "[[8 6 1 4]\n",
      " [4 1 9 2]]\n",
      "------------------------------\n",
      "[[6 2 9 2]\n",
      " [7 5 3 7]]\n",
      "------------------------------\n",
      "[[8 6 1 4]\n",
      " [4 1 9 2]\n",
      " [6 2 9 2]\n",
      " [7 5 3 7]]\n",
      "------------------------------\n",
      "[[8 6 1 4 6 2 9 2]\n",
      " [4 1 9 2 7 5 3 7]]\n"
     ]
    }
   ],
   "source": [
    "arr1=np.random.randint(1,10,(2,4))\n",
    "arr2=np.random.randint(1,10,(2,4))\n",
    "print(arr1)\n",
    "print(\"-\"*30)\n",
    "print(arr2)\n",
    "print(\"-\"*30)\n",
    "arr3=np.concatenate((arr1,arr2),axis=0)\n",
    "print(arr3)\n",
    "print(\"-\"*30)\n",
    "arr4=np.concatenate((arr1,arr2),axis=1)\n",
    "print(arr4)\n"
   ]
  },
  {
   "cell_type": "markdown",
   "id": "0768fa93-5899-4632-bac0-ef6429a6177d",
   "metadata": {},
   "source": [
    "## b) Vstack and Hstack"
   ]
  },
  {
   "cell_type": "code",
   "execution_count": 23,
   "id": "c61ddf03-fc1d-42d2-a5ce-87003ee8a339",
   "metadata": {},
   "outputs": [
    {
     "name": "stdout",
     "output_type": "stream",
     "text": [
      "[[2 6 8 4]\n",
      " [1 7 9 6]]\n",
      "------------------------------\n",
      "[[2 2 9 8]\n",
      " [6 7 8 9]]\n",
      "------------------------------\n",
      "[[2 6 8 4 2 2 9 8]\n",
      " [1 7 9 6 6 7 8 9]]\n"
     ]
    }
   ],
   "source": [
    "arr1=np.random.randint(1,10,(2,4))\n",
    "arr2=np.random.randint(1,10,(2,4))\n",
    "print(arr1)\n",
    "print(\"-\"*30)\n",
    "print(arr2)\n",
    "print(\"-\"*30)\n",
    "print(np.hstack((arr1,arr2)))"
   ]
  },
  {
   "cell_type": "code",
   "execution_count": 29,
   "id": "8fcc72ae-3bee-460d-86dc-798b80b730e2",
   "metadata": {},
   "outputs": [
    {
     "name": "stdout",
     "output_type": "stream",
     "text": [
      "[[2 6 8 4]\n",
      " [1 7 9 6]\n",
      " [2 2 9 8]\n",
      " [6 7 8 9]]\n"
     ]
    }
   ],
   "source": [
    "print(np.vstack((arr1,arr2)))"
   ]
  },
  {
   "cell_type": "markdown",
   "id": "e5f47d65-41b9-42f6-9a29-2f633f13d1ba",
   "metadata": {},
   "source": [
    "## 27. Splitting Arrays"
   ]
  },
  {
   "cell_type": "code",
   "execution_count": 32,
   "id": "a91478d5-2dcd-410b-8a0b-4b04f03140ac",
   "metadata": {},
   "outputs": [
    {
     "name": "stdout",
     "output_type": "stream",
     "text": [
      "[[3 4 7 2]\n",
      " [9 7 8 4]\n",
      " [6 8 9 7]\n",
      " [9 3 6 8]]\n"
     ]
    }
   ],
   "source": [
    "arr=np.random.randint(1,10,(4,4))\n",
    "print(arr)"
   ]
  },
  {
   "cell_type": "code",
   "execution_count": 34,
   "id": "bc00f3c8-c184-4c6c-9ae2-5fa9fc8d6322",
   "metadata": {},
   "outputs": [
    {
     "data": {
      "text/plain": [
       "[array([[3, 4, 7, 2]]),\n",
       " array([[9, 7, 8, 4]]),\n",
       " array([[6, 8, 9, 7]]),\n",
       " array([[9, 3, 6, 8]])]"
      ]
     },
     "execution_count": 34,
     "metadata": {},
     "output_type": "execute_result"
    }
   ],
   "source": [
    "np.vsplit(arr,4) # split rowwise"
   ]
  },
  {
   "cell_type": "code",
   "execution_count": 36,
   "id": "99eb28e6-92e1-4e3a-82b1-f523b0f3912c",
   "metadata": {},
   "outputs": [
    {
     "data": {
      "text/plain": [
       "[array([[3, 4],\n",
       "        [9, 7],\n",
       "        [6, 8],\n",
       "        [9, 3]]),\n",
       " array([[7, 2],\n",
       "        [8, 4],\n",
       "        [9, 7],\n",
       "        [6, 8]])]"
      ]
     },
     "execution_count": 36,
     "metadata": {},
     "output_type": "execute_result"
    }
   ],
   "source": [
    "np.hsplit(arr,2) #split columnwise"
   ]
  },
  {
   "cell_type": "markdown",
   "id": "42e3a991-8857-4c90-80cb-43958e961e27",
   "metadata": {},
   "source": [
    "## 28 Turning pics into Numpy arrays"
   ]
  },
  {
   "cell_type": "code",
   "execution_count": 41,
   "id": "27f84600-f67d-4e6e-af75-d149b0ab8b27",
   "metadata": {},
   "outputs": [
    {
     "data": {
      "text/plain": [
       "(630, 1200, 3)"
      ]
     },
     "execution_count": 41,
     "metadata": {},
     "output_type": "execute_result"
    }
   ],
   "source": [
    "from matplotlib.image import imread\n",
    "img=imread(\"M1.jpg\")\n",
    "img.shape"
   ]
  },
  {
   "cell_type": "code",
   "execution_count": null,
   "id": "be83b496-e1b5-49ab-963c-c09e333e5bc7",
   "metadata": {},
   "outputs": [],
   "source": []
  }
 ],
 "metadata": {
  "kernelspec": {
   "display_name": "Python 3 (ipykernel)",
   "language": "python",
   "name": "python3"
  },
  "language_info": {
   "codemirror_mode": {
    "name": "ipython",
    "version": 3
   },
   "file_extension": ".py",
   "mimetype": "text/x-python",
   "name": "python",
   "nbconvert_exporter": "python",
   "pygments_lexer": "ipython3",
   "version": "3.12.4"
  }
 },
 "nbformat": 4,
 "nbformat_minor": 5
}
